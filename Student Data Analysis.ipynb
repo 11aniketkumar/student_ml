{
 "cells": [
  {
   "cell_type": "code",
   "execution_count": 1,
   "id": "72a69adb",
   "metadata": {},
   "outputs": [],
   "source": [
    "import pandas as pd\n",
    "import numpy as np\n",
    "import matplotlib.pyplot as plt\n",
    "import seaborn as sns"
   ]
  },
  {
   "cell_type": "code",
   "execution_count": 2,
   "id": "72caea1d",
   "metadata": {},
   "outputs": [],
   "source": [
    "df = pd.read_excel('ml data.xlsx')"
   ]
  },
  {
   "cell_type": "markdown",
   "id": "b1528c67",
   "metadata": {},
   "source": [
    "# How big is the data?"
   ]
  },
  {
   "cell_type": "code",
   "execution_count": 3,
   "id": "839bb15f",
   "metadata": {},
   "outputs": [
    {
     "data": {
      "text/plain": [
       "(175, 5)"
      ]
     },
     "execution_count": 3,
     "metadata": {},
     "output_type": "execute_result"
    }
   ],
   "source": [
    "df.shape"
   ]
  },
  {
   "cell_type": "markdown",
   "id": "25a6d77a",
   "metadata": {},
   "source": [
    "# How does the data look?"
   ]
  },
  {
   "cell_type": "code",
   "execution_count": 4,
   "id": "e5d6a5fd",
   "metadata": {
    "scrolled": true
   },
   "outputs": [
    {
     "data": {
      "text/html": [
       "<div>\n",
       "<style scoped>\n",
       "    .dataframe tbody tr th:only-of-type {\n",
       "        vertical-align: middle;\n",
       "    }\n",
       "\n",
       "    .dataframe tbody tr th {\n",
       "        vertical-align: top;\n",
       "    }\n",
       "\n",
       "    .dataframe thead th {\n",
       "        text-align: right;\n",
       "    }\n",
       "</style>\n",
       "<table border=\"1\" class=\"dataframe\">\n",
       "  <thead>\n",
       "    <tr style=\"text-align: right;\">\n",
       "      <th></th>\n",
       "      <th>Timestamp</th>\n",
       "      <th>HEIGHT(in cm)</th>\n",
       "      <th>SHOE SIZE</th>\n",
       "      <th>10th (percentage)</th>\n",
       "      <th>PUC (percentage)</th>\n",
       "    </tr>\n",
       "  </thead>\n",
       "  <tbody>\n",
       "    <tr>\n",
       "      <th>161</th>\n",
       "      <td>2023-11-21 20:19:08.267</td>\n",
       "      <td>169</td>\n",
       "      <td>40</td>\n",
       "      <td>97.6</td>\n",
       "      <td>96.300</td>\n",
       "    </tr>\n",
       "    <tr>\n",
       "      <th>155</th>\n",
       "      <td>2023-11-21 20:04:24.408</td>\n",
       "      <td>162.56</td>\n",
       "      <td>8</td>\n",
       "      <td>79.68</td>\n",
       "      <td>74.000</td>\n",
       "    </tr>\n",
       "    <tr>\n",
       "      <th>140</th>\n",
       "      <td>2023-11-21 19:38:10.574</td>\n",
       "      <td>180</td>\n",
       "      <td>10</td>\n",
       "      <td>93.6</td>\n",
       "      <td>90.800</td>\n",
       "    </tr>\n",
       "    <tr>\n",
       "      <th>96</th>\n",
       "      <td>2023-11-21 19:16:34.972</td>\n",
       "      <td>190</td>\n",
       "      <td>11</td>\n",
       "      <td>91</td>\n",
       "      <td>90.000</td>\n",
       "    </tr>\n",
       "    <tr>\n",
       "      <th>137</th>\n",
       "      <td>2023-11-21 19:36:14.066</td>\n",
       "      <td>5</td>\n",
       "      <td>7</td>\n",
       "      <td>84.999</td>\n",
       "      <td>78.666</td>\n",
       "    </tr>\n",
       "  </tbody>\n",
       "</table>\n",
       "</div>"
      ],
      "text/plain": [
       "                  Timestamp HEIGHT(in cm)  SHOE SIZE 10th (percentage)  \\\n",
       "161 2023-11-21 20:19:08.267           169         40              97.6   \n",
       "155 2023-11-21 20:04:24.408        162.56          8             79.68   \n",
       "140 2023-11-21 19:38:10.574           180         10              93.6   \n",
       "96  2023-11-21 19:16:34.972           190         11                91   \n",
       "137 2023-11-21 19:36:14.066             5          7            84.999   \n",
       "\n",
       "     PUC (percentage)  \n",
       "161            96.300  \n",
       "155            74.000  \n",
       "140            90.800  \n",
       "96             90.000  \n",
       "137            78.666  "
      ]
     },
     "execution_count": 4,
     "metadata": {},
     "output_type": "execute_result"
    }
   ],
   "source": [
    "df.sample(5)"
   ]
  },
  {
   "cell_type": "code",
   "execution_count": 5,
   "id": "9860dd42",
   "metadata": {},
   "outputs": [],
   "source": [
    "df.drop('Timestamp', axis=1, inplace=True)"
   ]
  },
  {
   "cell_type": "markdown",
   "id": "00d77c20",
   "metadata": {},
   "source": [
    "# Are there any null value?"
   ]
  },
  {
   "cell_type": "code",
   "execution_count": 6,
   "id": "23229745",
   "metadata": {
    "scrolled": true
   },
   "outputs": [
    {
     "data": {
      "text/plain": [
       "HEIGHT(in cm)        0\n",
       "SHOE SIZE            0\n",
       "10th (percentage)    4\n",
       "PUC (percentage)     6\n",
       "dtype: int64"
      ]
     },
     "execution_count": 6,
     "metadata": {},
     "output_type": "execute_result"
    }
   ],
   "source": [
    "df.isnull().sum()"
   ]
  },
  {
   "cell_type": "code",
   "execution_count": 7,
   "id": "e479cc3e",
   "metadata": {},
   "outputs": [
    {
     "data": {
      "text/plain": [
       "(169, 4)"
      ]
     },
     "execution_count": 7,
     "metadata": {},
     "output_type": "execute_result"
    }
   ],
   "source": [
    "df.dropna(inplace=True)\n",
    "df.shape"
   ]
  },
  {
   "cell_type": "markdown",
   "id": "58c1b1de",
   "metadata": {},
   "source": [
    "# What are the datatypes of columns?"
   ]
  },
  {
   "cell_type": "code",
   "execution_count": 8,
   "id": "92737c46",
   "metadata": {
    "scrolled": true
   },
   "outputs": [
    {
     "name": "stdout",
     "output_type": "stream",
     "text": [
      "<class 'pandas.core.frame.DataFrame'>\n",
      "Int64Index: 169 entries, 5 to 174\n",
      "Data columns (total 4 columns):\n",
      " #   Column             Non-Null Count  Dtype  \n",
      "---  ------             --------------  -----  \n",
      " 0   HEIGHT(in cm)      169 non-null    object \n",
      " 1   SHOE SIZE          169 non-null    int64  \n",
      " 2   10th (percentage)  169 non-null    object \n",
      " 3   PUC (percentage)   169 non-null    float64\n",
      "dtypes: float64(1), int64(1), object(2)\n",
      "memory usage: 6.6+ KB\n"
     ]
    }
   ],
   "source": [
    "df.info()"
   ]
  },
  {
   "cell_type": "markdown",
   "id": "f6f80408",
   "metadata": {},
   "source": [
    "## >Converting columns to float"
   ]
  },
  {
   "cell_type": "code",
   "execution_count": 9,
   "id": "af6dc7d4",
   "metadata": {
    "scrolled": true
   },
   "outputs": [
    {
     "data": {
      "text/html": [
       "<div>\n",
       "<style scoped>\n",
       "    .dataframe tbody tr th:only-of-type {\n",
       "        vertical-align: middle;\n",
       "    }\n",
       "\n",
       "    .dataframe tbody tr th {\n",
       "        vertical-align: top;\n",
       "    }\n",
       "\n",
       "    .dataframe thead th {\n",
       "        text-align: right;\n",
       "    }\n",
       "</style>\n",
       "<table border=\"1\" class=\"dataframe\">\n",
       "  <thead>\n",
       "    <tr style=\"text-align: right;\">\n",
       "      <th></th>\n",
       "      <th>HEIGHT(in cm)</th>\n",
       "      <th>SHOE SIZE</th>\n",
       "      <th>10th (percentage)</th>\n",
       "      <th>PUC (percentage)</th>\n",
       "    </tr>\n",
       "  </thead>\n",
       "  <tbody>\n",
       "  </tbody>\n",
       "</table>\n",
       "</div>"
      ],
      "text/plain": [
       "Empty DataFrame\n",
       "Columns: [HEIGHT(in cm), SHOE SIZE, 10th (percentage), PUC (percentage)]\n",
       "Index: []"
      ]
     },
     "execution_count": 9,
     "metadata": {},
     "output_type": "execute_result"
    }
   ],
   "source": [
    "df[pd.to_numeric(df['10th (percentage)'], errors='coerce').isna()]"
   ]
  },
  {
   "cell_type": "code",
   "execution_count": 10,
   "id": "76a818da",
   "metadata": {
    "scrolled": false
   },
   "outputs": [
    {
     "data": {
      "text/html": [
       "<div>\n",
       "<style scoped>\n",
       "    .dataframe tbody tr th:only-of-type {\n",
       "        vertical-align: middle;\n",
       "    }\n",
       "\n",
       "    .dataframe tbody tr th {\n",
       "        vertical-align: top;\n",
       "    }\n",
       "\n",
       "    .dataframe thead th {\n",
       "        text-align: right;\n",
       "    }\n",
       "</style>\n",
       "<table border=\"1\" class=\"dataframe\">\n",
       "  <thead>\n",
       "    <tr style=\"text-align: right;\">\n",
       "      <th></th>\n",
       "      <th>HEIGHT(in cm)</th>\n",
       "      <th>SHOE SIZE</th>\n",
       "      <th>10th (percentage)</th>\n",
       "      <th>PUC (percentage)</th>\n",
       "    </tr>\n",
       "  </thead>\n",
       "  <tbody>\n",
       "    <tr>\n",
       "      <th>9</th>\n",
       "      <td>185cm</td>\n",
       "      <td>10</td>\n",
       "      <td>0.86</td>\n",
       "      <td>0.88</td>\n",
       "    </tr>\n",
       "    <tr>\n",
       "      <th>11</th>\n",
       "      <td>168cm</td>\n",
       "      <td>9</td>\n",
       "      <td>95</td>\n",
       "      <td>85.00</td>\n",
       "    </tr>\n",
       "  </tbody>\n",
       "</table>\n",
       "</div>"
      ],
      "text/plain": [
       "   HEIGHT(in cm)  SHOE SIZE 10th (percentage)  PUC (percentage)\n",
       "9          185cm         10              0.86              0.88\n",
       "11         168cm          9                95             85.00"
      ]
     },
     "execution_count": 10,
     "metadata": {},
     "output_type": "execute_result"
    }
   ],
   "source": [
    "df[pd.to_numeric(df['HEIGHT(in cm)'], errors='coerce').isna()]"
   ]
  },
  {
   "cell_type": "code",
   "execution_count": 11,
   "id": "daee2d0c",
   "metadata": {},
   "outputs": [],
   "source": [
    "import warnings\n",
    "warnings.simplefilter('ignore')"
   ]
  },
  {
   "cell_type": "code",
   "execution_count": 12,
   "id": "580bf900",
   "metadata": {
    "scrolled": false
   },
   "outputs": [],
   "source": [
    "df['HEIGHT(in cm)'][9] = '185'\n",
    "df['HEIGHT(in cm)'][11] = '168'\n",
    "df['HEIGHT(in cm)'] = df['HEIGHT(in cm)'].astype('float')\n",
    "df['10th (percentage)'] = df['10th (percentage)'].astype('float')"
   ]
  },
  {
   "cell_type": "markdown",
   "id": "48a60c7a",
   "metadata": {},
   "source": [
    "# How is the correlation between columns?"
   ]
  },
  {
   "cell_type": "code",
   "execution_count": 13,
   "id": "ae60f188",
   "metadata": {
    "scrolled": false
   },
   "outputs": [
    {
     "data": {
      "text/plain": [
       "<AxesSubplot:>"
      ]
     },
     "execution_count": 13,
     "metadata": {},
     "output_type": "execute_result"
    },
    {
     "data": {
      "image/png": "[encoded data removed]",
      "text/plain": [
       "<Figure size 432x288 with 2 Axes>"
      ]
     },
     "metadata": {
      "needs_background": "light"
     },
     "output_type": "display_data"
    }
   ],
   "source": [
    "sns.heatmap(df.corr(), annot=True)"
   ]
  },
  {
   "cell_type": "markdown",
   "id": "a3569234",
   "metadata": {},
   "source": [
    "# How does data look mathematically?"
   ]
  },
  {
   "cell_type": "code",
   "execution_count": 14,
   "id": "92aa0c64",
   "metadata": {
    "scrolled": false
   },
   "outputs": [
    {
     "data": {
      "text/html": [
       "<div>\n",
       "<style scoped>\n",
       "    .dataframe tbody tr th:only-of-type {\n",
       "        vertical-align: middle;\n",
       "    }\n",
       "\n",
       "    .dataframe tbody tr th {\n",
       "        vertical-align: top;\n",
       "    }\n",
       "\n",
       "    .dataframe thead th {\n",
       "        text-align: right;\n",
       "    }\n",
       "</style>\n",
       "<table border=\"1\" class=\"dataframe\">\n",
       "  <thead>\n",
       "    <tr style=\"text-align: right;\">\n",
       "      <th></th>\n",
       "      <th>HEIGHT(in cm)</th>\n",
       "      <th>SHOE SIZE</th>\n",
       "      <th>10th (percentage)</th>\n",
       "      <th>PUC (percentage)</th>\n",
       "    </tr>\n",
       "  </thead>\n",
       "  <tbody>\n",
       "    <tr>\n",
       "      <th>count</th>\n",
       "      <td>169.000000</td>\n",
       "      <td>169.000000</td>\n",
       "      <td>169.000000</td>\n",
       "      <td>169.000000</td>\n",
       "    </tr>\n",
       "    <tr>\n",
       "      <th>mean</th>\n",
       "      <td>151.554320</td>\n",
       "      <td>9.390533</td>\n",
       "      <td>84.122775</td>\n",
       "      <td>80.750621</td>\n",
       "    </tr>\n",
       "    <tr>\n",
       "      <th>std</th>\n",
       "      <td>92.906394</td>\n",
       "      <td>7.265470</td>\n",
       "      <td>36.823705</td>\n",
       "      <td>14.748240</td>\n",
       "    </tr>\n",
       "    <tr>\n",
       "      <th>min</th>\n",
       "      <td>1.590000</td>\n",
       "      <td>1.000000</td>\n",
       "      <td>0.860000</td>\n",
       "      <td>0.860000</td>\n",
       "    </tr>\n",
       "    <tr>\n",
       "      <th>25%</th>\n",
       "      <td>155.000000</td>\n",
       "      <td>7.000000</td>\n",
       "      <td>78.000000</td>\n",
       "      <td>76.000000</td>\n",
       "    </tr>\n",
       "    <tr>\n",
       "      <th>50%</th>\n",
       "      <td>164.000000</td>\n",
       "      <td>8.000000</td>\n",
       "      <td>86.000000</td>\n",
       "      <td>84.000000</td>\n",
       "    </tr>\n",
       "    <tr>\n",
       "      <th>75%</th>\n",
       "      <td>173.000000</td>\n",
       "      <td>10.000000</td>\n",
       "      <td>91.000000</td>\n",
       "      <td>89.000000</td>\n",
       "    </tr>\n",
       "    <tr>\n",
       "      <th>max</th>\n",
       "      <td>1000.000000</td>\n",
       "      <td>69.000000</td>\n",
       "      <td>508.000000</td>\n",
       "      <td>99.000000</td>\n",
       "    </tr>\n",
       "  </tbody>\n",
       "</table>\n",
       "</div>"
      ],
      "text/plain": [
       "       HEIGHT(in cm)   SHOE SIZE  10th (percentage)  PUC (percentage)\n",
       "count     169.000000  169.000000         169.000000        169.000000\n",
       "mean      151.554320    9.390533          84.122775         80.750621\n",
       "std        92.906394    7.265470          36.823705         14.748240\n",
       "min         1.590000    1.000000           0.860000          0.860000\n",
       "25%       155.000000    7.000000          78.000000         76.000000\n",
       "50%       164.000000    8.000000          86.000000         84.000000\n",
       "75%       173.000000   10.000000          91.000000         89.000000\n",
       "max      1000.000000   69.000000         508.000000         99.000000"
      ]
     },
     "execution_count": 14,
     "metadata": {},
     "output_type": "execute_result"
    }
   ],
   "source": [
    "df.describe()"
   ]
  },
  {
   "cell_type": "markdown",
   "id": "4ffafd5c",
   "metadata": {},
   "source": [
    "## >Removing outliers from 10th and PUC"
   ]
  },
  {
   "cell_type": "code",
   "execution_count": 15,
   "id": "b8477c9d",
   "metadata": {
    "scrolled": true
   },
   "outputs": [
    {
     "data": {
      "text/html": [
       "<div>\n",
       "<style scoped>\n",
       "    .dataframe tbody tr th:only-of-type {\n",
       "        vertical-align: middle;\n",
       "    }\n",
       "\n",
       "    .dataframe tbody tr th {\n",
       "        vertical-align: top;\n",
       "    }\n",
       "\n",
       "    .dataframe thead th {\n",
       "        text-align: right;\n",
       "    }\n",
       "</style>\n",
       "<table border=\"1\" class=\"dataframe\">\n",
       "  <thead>\n",
       "    <tr style=\"text-align: right;\">\n",
       "      <th></th>\n",
       "      <th>HEIGHT(in cm)</th>\n",
       "      <th>SHOE SIZE</th>\n",
       "      <th>10th (percentage)</th>\n",
       "      <th>PUC (percentage)</th>\n",
       "    </tr>\n",
       "  </thead>\n",
       "  <tbody>\n",
       "    <tr>\n",
       "      <th>5</th>\n",
       "      <td>175.0</td>\n",
       "      <td>9</td>\n",
       "      <td>508.00000</td>\n",
       "      <td>80.00000</td>\n",
       "    </tr>\n",
       "    <tr>\n",
       "      <th>7</th>\n",
       "      <td>153.0</td>\n",
       "      <td>5</td>\n",
       "      <td>0.93000</td>\n",
       "      <td>0.86000</td>\n",
       "    </tr>\n",
       "    <tr>\n",
       "      <th>9</th>\n",
       "      <td>185.0</td>\n",
       "      <td>10</td>\n",
       "      <td>0.86000</td>\n",
       "      <td>0.88000</td>\n",
       "    </tr>\n",
       "    <tr>\n",
       "      <th>10</th>\n",
       "      <td>1000.0</td>\n",
       "      <td>1</td>\n",
       "      <td>0.99999</td>\n",
       "      <td>0.88888</td>\n",
       "    </tr>\n",
       "    <tr>\n",
       "      <th>13</th>\n",
       "      <td>100.0</td>\n",
       "      <td>4</td>\n",
       "      <td>0.99000</td>\n",
       "      <td>99.00000</td>\n",
       "    </tr>\n",
       "    <tr>\n",
       "      <th>23</th>\n",
       "      <td>161.0</td>\n",
       "      <td>7</td>\n",
       "      <td>7.80000</td>\n",
       "      <td>8.10000</td>\n",
       "    </tr>\n",
       "  </tbody>\n",
       "</table>\n",
       "</div>"
      ],
      "text/plain": [
       "    HEIGHT(in cm)  SHOE SIZE  10th (percentage)  PUC (percentage)\n",
       "5           175.0          9          508.00000          80.00000\n",
       "7           153.0          5            0.93000           0.86000\n",
       "9           185.0         10            0.86000           0.88000\n",
       "10         1000.0          1            0.99999           0.88888\n",
       "13          100.0          4            0.99000          99.00000\n",
       "23          161.0          7            7.80000           8.10000"
      ]
     },
     "execution_count": 15,
     "metadata": {},
     "output_type": "execute_result"
    }
   ],
   "source": [
    "condition = ((df['10th (percentage)'] < 40) | (df['10th (percentage)'] > 100))\n",
    "df[condition]"
   ]
  },
  {
   "cell_type": "code",
   "execution_count": 16,
   "id": "d0b4ce4c",
   "metadata": {
    "scrolled": false
   },
   "outputs": [],
   "source": [
    "def float_to_percentage(x):\n",
    "    if x <= 1:\n",
    "        return 100*x\n",
    "    return x"
   ]
  },
  {
   "cell_type": "code",
   "execution_count": 17,
   "id": "12dbc04b",
   "metadata": {},
   "outputs": [],
   "source": [
    "df['10th (percentage)'] = df['10th (percentage)'].apply(float_to_percentage)\n",
    "df['PUC (percentage)'] = df['PUC (percentage)'].apply(float_to_percentage)"
   ]
  },
  {
   "cell_type": "code",
   "execution_count": 18,
   "id": "0983ddb1",
   "metadata": {},
   "outputs": [
    {
     "data": {
      "text/html": [
       "<div>\n",
       "<style scoped>\n",
       "    .dataframe tbody tr th:only-of-type {\n",
       "        vertical-align: middle;\n",
       "    }\n",
       "\n",
       "    .dataframe tbody tr th {\n",
       "        vertical-align: top;\n",
       "    }\n",
       "\n",
       "    .dataframe thead th {\n",
       "        text-align: right;\n",
       "    }\n",
       "</style>\n",
       "<table border=\"1\" class=\"dataframe\">\n",
       "  <thead>\n",
       "    <tr style=\"text-align: right;\">\n",
       "      <th></th>\n",
       "      <th>HEIGHT(in cm)</th>\n",
       "      <th>SHOE SIZE</th>\n",
       "      <th>10th (percentage)</th>\n",
       "      <th>PUC (percentage)</th>\n",
       "    </tr>\n",
       "  </thead>\n",
       "  <tbody>\n",
       "    <tr>\n",
       "      <th>5</th>\n",
       "      <td>175.0</td>\n",
       "      <td>9</td>\n",
       "      <td>508.0</td>\n",
       "      <td>80.0</td>\n",
       "    </tr>\n",
       "    <tr>\n",
       "      <th>23</th>\n",
       "      <td>161.0</td>\n",
       "      <td>7</td>\n",
       "      <td>7.8</td>\n",
       "      <td>8.1</td>\n",
       "    </tr>\n",
       "  </tbody>\n",
       "</table>\n",
       "</div>"
      ],
      "text/plain": [
       "    HEIGHT(in cm)  SHOE SIZE  10th (percentage)  PUC (percentage)\n",
       "5           175.0          9              508.0              80.0\n",
       "23          161.0          7                7.8               8.1"
      ]
     },
     "execution_count": 18,
     "metadata": {},
     "output_type": "execute_result"
    }
   ],
   "source": [
    "condition = ((df['10th (percentage)'] < 40) | (df['10th (percentage)'] > 100))\n",
    "df[condition]"
   ]
  },
  {
   "cell_type": "code",
   "execution_count": 19,
   "id": "690c04ad",
   "metadata": {},
   "outputs": [
    {
     "data": {
      "text/plain": [
       "(167, 4)"
      ]
     },
     "execution_count": 19,
     "metadata": {},
     "output_type": "execute_result"
    }
   ],
   "source": [
    "df = df.drop(df[condition].index)\n",
    "df.shape"
   ]
  },
  {
   "cell_type": "markdown",
   "id": "06d02d16",
   "metadata": {},
   "source": [
    "## >Removing outliers from HEIGHT"
   ]
  },
  {
   "cell_type": "code",
   "execution_count": 20,
   "id": "5dba1423",
   "metadata": {
    "scrolled": false
   },
   "outputs": [
    {
     "data": {
      "text/html": [
       "<div>\n",
       "<style scoped>\n",
       "    .dataframe tbody tr th:only-of-type {\n",
       "        vertical-align: middle;\n",
       "    }\n",
       "\n",
       "    .dataframe tbody tr th {\n",
       "        vertical-align: top;\n",
       "    }\n",
       "\n",
       "    .dataframe thead th {\n",
       "        text-align: right;\n",
       "    }\n",
       "</style>\n",
       "<table border=\"1\" class=\"dataframe\">\n",
       "  <thead>\n",
       "    <tr style=\"text-align: right;\">\n",
       "      <th></th>\n",
       "      <th>HEIGHT(in cm)</th>\n",
       "      <th>SHOE SIZE</th>\n",
       "      <th>10th (percentage)</th>\n",
       "      <th>PUC (percentage)</th>\n",
       "    </tr>\n",
       "  </thead>\n",
       "  <tbody>\n",
       "    <tr>\n",
       "      <th>10</th>\n",
       "      <td>1000.00</td>\n",
       "      <td>1</td>\n",
       "      <td>99.999</td>\n",
       "      <td>88.888</td>\n",
       "    </tr>\n",
       "    <tr>\n",
       "      <th>12</th>\n",
       "      <td>69.00</td>\n",
       "      <td>69</td>\n",
       "      <td>69.000</td>\n",
       "      <td>69.000</td>\n",
       "    </tr>\n",
       "    <tr>\n",
       "      <th>13</th>\n",
       "      <td>100.00</td>\n",
       "      <td>4</td>\n",
       "      <td>99.000</td>\n",
       "      <td>99.000</td>\n",
       "    </tr>\n",
       "    <tr>\n",
       "      <th>27</th>\n",
       "      <td>5.40</td>\n",
       "      <td>9</td>\n",
       "      <td>90.000</td>\n",
       "      <td>89.000</td>\n",
       "    </tr>\n",
       "    <tr>\n",
       "      <th>34</th>\n",
       "      <td>5.90</td>\n",
       "      <td>10</td>\n",
       "      <td>85.000</td>\n",
       "      <td>90.000</td>\n",
       "    </tr>\n",
       "    <tr>\n",
       "      <th>60</th>\n",
       "      <td>5.50</td>\n",
       "      <td>7</td>\n",
       "      <td>60.000</td>\n",
       "      <td>70.000</td>\n",
       "    </tr>\n",
       "    <tr>\n",
       "      <th>63</th>\n",
       "      <td>4.60</td>\n",
       "      <td>5</td>\n",
       "      <td>89.200</td>\n",
       "      <td>85.800</td>\n",
       "    </tr>\n",
       "    <tr>\n",
       "      <th>66</th>\n",
       "      <td>6.00</td>\n",
       "      <td>10</td>\n",
       "      <td>86.000</td>\n",
       "      <td>88.000</td>\n",
       "    </tr>\n",
       "    <tr>\n",
       "      <th>71</th>\n",
       "      <td>5.80</td>\n",
       "      <td>8</td>\n",
       "      <td>98.000</td>\n",
       "      <td>88.000</td>\n",
       "    </tr>\n",
       "    <tr>\n",
       "      <th>97</th>\n",
       "      <td>5.00</td>\n",
       "      <td>7</td>\n",
       "      <td>75.000</td>\n",
       "      <td>81.000</td>\n",
       "    </tr>\n",
       "    <tr>\n",
       "      <th>116</th>\n",
       "      <td>590.00</td>\n",
       "      <td>8</td>\n",
       "      <td>77.000</td>\n",
       "      <td>89.000</td>\n",
       "    </tr>\n",
       "    <tr>\n",
       "      <th>118</th>\n",
       "      <td>5.90</td>\n",
       "      <td>7</td>\n",
       "      <td>88.400</td>\n",
       "      <td>82.200</td>\n",
       "    </tr>\n",
       "    <tr>\n",
       "      <th>123</th>\n",
       "      <td>4.30</td>\n",
       "      <td>5</td>\n",
       "      <td>90.880</td>\n",
       "      <td>90.830</td>\n",
       "    </tr>\n",
       "    <tr>\n",
       "      <th>125</th>\n",
       "      <td>5.30</td>\n",
       "      <td>8</td>\n",
       "      <td>78.000</td>\n",
       "      <td>65.000</td>\n",
       "    </tr>\n",
       "    <tr>\n",
       "      <th>126</th>\n",
       "      <td>1.59</td>\n",
       "      <td>6</td>\n",
       "      <td>86.000</td>\n",
       "      <td>84.000</td>\n",
       "    </tr>\n",
       "    <tr>\n",
       "      <th>130</th>\n",
       "      <td>5.00</td>\n",
       "      <td>6</td>\n",
       "      <td>93.000</td>\n",
       "      <td>89.000</td>\n",
       "    </tr>\n",
       "    <tr>\n",
       "      <th>132</th>\n",
       "      <td>5.80</td>\n",
       "      <td>9</td>\n",
       "      <td>76.000</td>\n",
       "      <td>63.000</td>\n",
       "    </tr>\n",
       "    <tr>\n",
       "      <th>134</th>\n",
       "      <td>5.30</td>\n",
       "      <td>8</td>\n",
       "      <td>87.600</td>\n",
       "      <td>88.600</td>\n",
       "    </tr>\n",
       "    <tr>\n",
       "      <th>135</th>\n",
       "      <td>5.80</td>\n",
       "      <td>9</td>\n",
       "      <td>89.000</td>\n",
       "      <td>85.000</td>\n",
       "    </tr>\n",
       "    <tr>\n",
       "      <th>137</th>\n",
       "      <td>5.00</td>\n",
       "      <td>7</td>\n",
       "      <td>84.999</td>\n",
       "      <td>78.666</td>\n",
       "    </tr>\n",
       "    <tr>\n",
       "      <th>139</th>\n",
       "      <td>57.00</td>\n",
       "      <td>7</td>\n",
       "      <td>78.000</td>\n",
       "      <td>78.000</td>\n",
       "    </tr>\n",
       "    <tr>\n",
       "      <th>147</th>\n",
       "      <td>5.50</td>\n",
       "      <td>9</td>\n",
       "      <td>88.000</td>\n",
       "      <td>87.000</td>\n",
       "    </tr>\n",
       "    <tr>\n",
       "      <th>152</th>\n",
       "      <td>5.40</td>\n",
       "      <td>7</td>\n",
       "      <td>83.000</td>\n",
       "      <td>88.000</td>\n",
       "    </tr>\n",
       "    <tr>\n",
       "      <th>158</th>\n",
       "      <td>5.30</td>\n",
       "      <td>9</td>\n",
       "      <td>69.000</td>\n",
       "      <td>65.000</td>\n",
       "    </tr>\n",
       "    <tr>\n",
       "      <th>162</th>\n",
       "      <td>5.60</td>\n",
       "      <td>6</td>\n",
       "      <td>99.000</td>\n",
       "      <td>85.000</td>\n",
       "    </tr>\n",
       "    <tr>\n",
       "      <th>168</th>\n",
       "      <td>5.90</td>\n",
       "      <td>9</td>\n",
       "      <td>94.660</td>\n",
       "      <td>82.200</td>\n",
       "    </tr>\n",
       "    <tr>\n",
       "      <th>172</th>\n",
       "      <td>5.80</td>\n",
       "      <td>7</td>\n",
       "      <td>72.000</td>\n",
       "      <td>84.000</td>\n",
       "    </tr>\n",
       "  </tbody>\n",
       "</table>\n",
       "</div>"
      ],
      "text/plain": [
       "     HEIGHT(in cm)  SHOE SIZE  10th (percentage)  PUC (percentage)\n",
       "10         1000.00          1             99.999            88.888\n",
       "12           69.00         69             69.000            69.000\n",
       "13          100.00          4             99.000            99.000\n",
       "27            5.40          9             90.000            89.000\n",
       "34            5.90         10             85.000            90.000\n",
       "60            5.50          7             60.000            70.000\n",
       "63            4.60          5             89.200            85.800\n",
       "66            6.00         10             86.000            88.000\n",
       "71            5.80          8             98.000            88.000\n",
       "97            5.00          7             75.000            81.000\n",
       "116         590.00          8             77.000            89.000\n",
       "118           5.90          7             88.400            82.200\n",
       "123           4.30          5             90.880            90.830\n",
       "125           5.30          8             78.000            65.000\n",
       "126           1.59          6             86.000            84.000\n",
       "130           5.00          6             93.000            89.000\n",
       "132           5.80          9             76.000            63.000\n",
       "134           5.30          8             87.600            88.600\n",
       "135           5.80          9             89.000            85.000\n",
       "137           5.00          7             84.999            78.666\n",
       "139          57.00          7             78.000            78.000\n",
       "147           5.50          9             88.000            87.000\n",
       "152           5.40          7             83.000            88.000\n",
       "158           5.30          9             69.000            65.000\n",
       "162           5.60          6             99.000            85.000\n",
       "168           5.90          9             94.660            82.200\n",
       "172           5.80          7             72.000            84.000"
      ]
     },
     "execution_count": 20,
     "metadata": {},
     "output_type": "execute_result"
    }
   ],
   "source": [
    "condition = ((df['HEIGHT(in cm)'] < 120) | (df['HEIGHT(in cm)'] > 220))\n",
    "df[condition]"
   ]
  },
  {
   "cell_type": "code",
   "execution_count": 21,
   "id": "29cc7d39",
   "metadata": {},
   "outputs": [],
   "source": [
    "def height_conversion(x):\n",
    "    if x < 7.5:\n",
    "        feet = int(x)\n",
    "        inches = (x - feet) * 10\n",
    "        return feet * 30.48 + inches * 2.54\n",
    "    return x"
   ]
  },
  {
   "cell_type": "code",
   "execution_count": 22,
   "id": "31c896ae",
   "metadata": {},
   "outputs": [],
   "source": [
    "df['HEIGHT(in cm)'] = df['HEIGHT(in cm)'].apply(height_conversion)"
   ]
  },
  {
   "cell_type": "code",
   "execution_count": 23,
   "id": "d3a01799",
   "metadata": {},
   "outputs": [
    {
     "data": {
      "text/html": [
       "<div>\n",
       "<style scoped>\n",
       "    .dataframe tbody tr th:only-of-type {\n",
       "        vertical-align: middle;\n",
       "    }\n",
       "\n",
       "    .dataframe tbody tr th {\n",
       "        vertical-align: top;\n",
       "    }\n",
       "\n",
       "    .dataframe thead th {\n",
       "        text-align: right;\n",
       "    }\n",
       "</style>\n",
       "<table border=\"1\" class=\"dataframe\">\n",
       "  <thead>\n",
       "    <tr style=\"text-align: right;\">\n",
       "      <th></th>\n",
       "      <th>HEIGHT(in cm)</th>\n",
       "      <th>SHOE SIZE</th>\n",
       "      <th>10th (percentage)</th>\n",
       "      <th>PUC (percentage)</th>\n",
       "    </tr>\n",
       "  </thead>\n",
       "  <tbody>\n",
       "    <tr>\n",
       "      <th>10</th>\n",
       "      <td>1000.000</td>\n",
       "      <td>1</td>\n",
       "      <td>99.999</td>\n",
       "      <td>88.888</td>\n",
       "    </tr>\n",
       "    <tr>\n",
       "      <th>12</th>\n",
       "      <td>69.000</td>\n",
       "      <td>69</td>\n",
       "      <td>69.000</td>\n",
       "      <td>69.000</td>\n",
       "    </tr>\n",
       "    <tr>\n",
       "      <th>13</th>\n",
       "      <td>100.000</td>\n",
       "      <td>4</td>\n",
       "      <td>99.000</td>\n",
       "      <td>99.000</td>\n",
       "    </tr>\n",
       "    <tr>\n",
       "      <th>63</th>\n",
       "      <td>137.160</td>\n",
       "      <td>5</td>\n",
       "      <td>89.200</td>\n",
       "      <td>85.800</td>\n",
       "    </tr>\n",
       "    <tr>\n",
       "      <th>113</th>\n",
       "      <td>128.000</td>\n",
       "      <td>6</td>\n",
       "      <td>99.360</td>\n",
       "      <td>93.000</td>\n",
       "    </tr>\n",
       "    <tr>\n",
       "      <th>116</th>\n",
       "      <td>590.000</td>\n",
       "      <td>8</td>\n",
       "      <td>77.000</td>\n",
       "      <td>89.000</td>\n",
       "    </tr>\n",
       "    <tr>\n",
       "      <th>122</th>\n",
       "      <td>140.000</td>\n",
       "      <td>10</td>\n",
       "      <td>60.000</td>\n",
       "      <td>80.000</td>\n",
       "    </tr>\n",
       "    <tr>\n",
       "      <th>123</th>\n",
       "      <td>129.540</td>\n",
       "      <td>5</td>\n",
       "      <td>90.880</td>\n",
       "      <td>90.830</td>\n",
       "    </tr>\n",
       "    <tr>\n",
       "      <th>126</th>\n",
       "      <td>45.466</td>\n",
       "      <td>6</td>\n",
       "      <td>86.000</td>\n",
       "      <td>84.000</td>\n",
       "    </tr>\n",
       "    <tr>\n",
       "      <th>139</th>\n",
       "      <td>57.000</td>\n",
       "      <td>7</td>\n",
       "      <td>78.000</td>\n",
       "      <td>78.000</td>\n",
       "    </tr>\n",
       "  </tbody>\n",
       "</table>\n",
       "</div>"
      ],
      "text/plain": [
       "     HEIGHT(in cm)  SHOE SIZE  10th (percentage)  PUC (percentage)\n",
       "10        1000.000          1             99.999            88.888\n",
       "12          69.000         69             69.000            69.000\n",
       "13         100.000          4             99.000            99.000\n",
       "63         137.160          5             89.200            85.800\n",
       "113        128.000          6             99.360            93.000\n",
       "116        590.000          8             77.000            89.000\n",
       "122        140.000         10             60.000            80.000\n",
       "123        129.540          5             90.880            90.830\n",
       "126         45.466          6             86.000            84.000\n",
       "139         57.000          7             78.000            78.000"
      ]
     },
     "execution_count": 23,
     "metadata": {},
     "output_type": "execute_result"
    }
   ],
   "source": [
    "# condition = ((df['HEIGHT(in cm)'] < 120) | (df['HEIGHT(in cm)'] > 220))\n",
    "condition = ((df['HEIGHT(in cm)'] < 142) | (df['HEIGHT(in cm)'] > 220))\n",
    "df[condition]"
   ]
  },
  {
   "cell_type": "code",
   "execution_count": 24,
   "id": "2b61b984",
   "metadata": {},
   "outputs": [
    {
     "data": {
      "text/plain": [
       "(157, 4)"
      ]
     },
     "execution_count": 24,
     "metadata": {},
     "output_type": "execute_result"
    }
   ],
   "source": [
    "df = df.drop(df[condition].index)\n",
    "df.shape"
   ]
  },
  {
   "cell_type": "markdown",
   "id": "9d8ab0c8",
   "metadata": {},
   "source": [
    "## >Removing outliers from SHOE SIZE"
   ]
  },
  {
   "cell_type": "code",
   "execution_count": 25,
   "id": "7eec14be",
   "metadata": {
    "scrolled": false
   },
   "outputs": [
    {
     "data": {
      "text/html": [
       "<div>\n",
       "<style scoped>\n",
       "    .dataframe tbody tr th:only-of-type {\n",
       "        vertical-align: middle;\n",
       "    }\n",
       "\n",
       "    .dataframe tbody tr th {\n",
       "        vertical-align: top;\n",
       "    }\n",
       "\n",
       "    .dataframe thead th {\n",
       "        text-align: right;\n",
       "    }\n",
       "</style>\n",
       "<table border=\"1\" class=\"dataframe\">\n",
       "  <thead>\n",
       "    <tr style=\"text-align: right;\">\n",
       "      <th></th>\n",
       "      <th>HEIGHT(in cm)</th>\n",
       "      <th>SHOE SIZE</th>\n",
       "      <th>10th (percentage)</th>\n",
       "      <th>PUC (percentage)</th>\n",
       "    </tr>\n",
       "  </thead>\n",
       "  <tbody>\n",
       "    <tr>\n",
       "      <th>7</th>\n",
       "      <td>153.0</td>\n",
       "      <td>5</td>\n",
       "      <td>93.0</td>\n",
       "      <td>86.00</td>\n",
       "    </tr>\n",
       "    <tr>\n",
       "      <th>70</th>\n",
       "      <td>157.0</td>\n",
       "      <td>5</td>\n",
       "      <td>79.0</td>\n",
       "      <td>86.00</td>\n",
       "    </tr>\n",
       "    <tr>\n",
       "      <th>85</th>\n",
       "      <td>168.0</td>\n",
       "      <td>41</td>\n",
       "      <td>88.0</td>\n",
       "      <td>77.00</td>\n",
       "    </tr>\n",
       "    <tr>\n",
       "      <th>120</th>\n",
       "      <td>164.0</td>\n",
       "      <td>5</td>\n",
       "      <td>83.0</td>\n",
       "      <td>76.00</td>\n",
       "    </tr>\n",
       "    <tr>\n",
       "      <th>136</th>\n",
       "      <td>160.0</td>\n",
       "      <td>40</td>\n",
       "      <td>92.0</td>\n",
       "      <td>90.00</td>\n",
       "    </tr>\n",
       "    <tr>\n",
       "      <th>141</th>\n",
       "      <td>157.0</td>\n",
       "      <td>5</td>\n",
       "      <td>89.0</td>\n",
       "      <td>78.00</td>\n",
       "    </tr>\n",
       "    <tr>\n",
       "      <th>150</th>\n",
       "      <td>164.0</td>\n",
       "      <td>40</td>\n",
       "      <td>91.0</td>\n",
       "      <td>94.66</td>\n",
       "    </tr>\n",
       "    <tr>\n",
       "      <th>151</th>\n",
       "      <td>151.0</td>\n",
       "      <td>37</td>\n",
       "      <td>69.2</td>\n",
       "      <td>83.30</td>\n",
       "    </tr>\n",
       "    <tr>\n",
       "      <th>161</th>\n",
       "      <td>169.0</td>\n",
       "      <td>40</td>\n",
       "      <td>97.6</td>\n",
       "      <td>96.30</td>\n",
       "    </tr>\n",
       "  </tbody>\n",
       "</table>\n",
       "</div>"
      ],
      "text/plain": [
       "     HEIGHT(in cm)  SHOE SIZE  10th (percentage)  PUC (percentage)\n",
       "7            153.0          5               93.0             86.00\n",
       "70           157.0          5               79.0             86.00\n",
       "85           168.0         41               88.0             77.00\n",
       "120          164.0          5               83.0             76.00\n",
       "136          160.0         40               92.0             90.00\n",
       "141          157.0          5               89.0             78.00\n",
       "150          164.0         40               91.0             94.66\n",
       "151          151.0         37               69.2             83.30\n",
       "161          169.0         40               97.6             96.30"
      ]
     },
     "execution_count": 25,
     "metadata": {},
     "output_type": "execute_result"
    }
   ],
   "source": [
    "condition = ((df['SHOE SIZE'] < 6) | (df['SHOE SIZE'] > 13))\n",
    "df[condition]"
   ]
  },
  {
   "cell_type": "code",
   "execution_count": 26,
   "id": "15b89dbd",
   "metadata": {},
   "outputs": [
    {
     "data": {
      "text/plain": [
       "(148, 4)"
      ]
     },
     "execution_count": 26,
     "metadata": {},
     "output_type": "execute_result"
    }
   ],
   "source": [
    "df = df.drop(df[condition].index)\n",
    "df.shape"
   ]
  },
  {
   "cell_type": "markdown",
   "id": "09adede4",
   "metadata": {},
   "source": [
    "# Correlation"
   ]
  },
  {
   "cell_type": "code",
   "execution_count": 27,
   "id": "811c672c",
   "metadata": {
    "scrolled": false
   },
   "outputs": [
    {
     "data": {
      "text/plain": [
       "<AxesSubplot:>"
      ]
     },
     "execution_count": 27,
     "metadata": {},
     "output_type": "execute_result"
    },
    {
     "data": {
      "image/png": "[encoded data removed]",
      "text/plain": [
       "<Figure size 432x288 with 2 Axes>"
      ]
     },
     "metadata": {
      "needs_background": "light"
     },
     "output_type": "display_data"
    }
   ],
   "source": [
    "sns.heatmap(df.corr(), annot=True)"
   ]
  },
  {
   "cell_type": "code",
   "execution_count": 28,
   "id": "2d097239",
   "metadata": {},
   "outputs": [
    {
     "data": {
      "image/png": "[encoded data removed]",
      "text/plain": [
       "<Figure size 1080x360 with 2 Axes>"
      ]
     },
     "metadata": {
      "needs_background": "light"
     },
     "output_type": "display_data"
    }
   ],
   "source": [
    "fig,ax = plt.subplots(1,2,figsize=(15,5))\n",
    "sns.countplot(x='SHOE SIZE', data=df, ax=ax[0])\n",
    "df['SHOE SIZE'].value_counts().plot(kind='pie', autopct='%.2f', ax=ax[1])\n",
    "plt.show()"
   ]
  },
  {
   "cell_type": "code",
   "execution_count": 29,
   "id": "1979db55",
   "metadata": {
    "scrolled": true
   },
   "outputs": [
    {
     "data": {
      "image/png": "[encoded data removed]",
      "text/plain": [
       "<Figure size 1152x360 with 2 Axes>"
      ]
     },
     "metadata": {
      "needs_background": "light"
     },
     "output_type": "display_data"
    }
   ],
   "source": [
    "fig,ax = plt.subplots(1,2,figsize=(16,5))\n",
    "sns.scatterplot(x='SHOE SIZE',y='HEIGHT(in cm)', data=df, ax=ax[0])\n",
    "sns.pointplot(x='SHOE SIZE',y='HEIGHT(in cm)', data=df, ax=ax[1])\n",
    "plt.show()"
   ]
  },
  {
   "cell_type": "code",
   "execution_count": 30,
   "id": "6b260864",
   "metadata": {},
   "outputs": [
    {
     "data": {
      "text/plain": [
       "<AxesSubplot:xlabel='10th (percentage)', ylabel='PUC (percentage)'>"
      ]
     },
     "execution_count": 30,
     "metadata": {},
     "output_type": "execute_result"
    },
    {
     "data": {
      "image/png": "[encoded data removed]",
      "text/plain": [
       "<Figure size 720x504 with 1 Axes>"
      ]
     },
     "metadata": {
      "needs_background": "light"
     },
     "output_type": "display_data"
    }
   ],
   "source": [
    "plt.figure(figsize=(10,7))\n",
    "sns.scatterplot(x='10th (percentage)', y='PUC (percentage)', data=df)"
   ]
  },
  {
   "cell_type": "code",
   "execution_count": 31,
   "id": "c118a5b2",
   "metadata": {
    "scrolled": true
   },
   "outputs": [
    {
     "data": {
      "image/png": "[encoded data removed]",
      "text/plain": [
       "<Figure size 1080x360 with 2 Axes>"
      ]
     },
     "metadata": {
      "needs_background": "light"
     },
     "output_type": "display_data"
    }
   ],
   "source": [
    "fig,ax = plt.subplots(1,2,figsize=(15,5))\n",
    "sns.distplot(df['10th (percentage)'], ax=ax[0])\n",
    "sns.distplot(df['PUC (percentage)'], ax=ax[1])\n",
    "plt.show()"
   ]
  },
  {
   "cell_type": "code",
   "execution_count": 32,
   "id": "ab9a67ca",
   "metadata": {},
   "outputs": [
    {
     "data": {
      "image/png": "[encoded data removed]",
      "text/plain": [
       "<Figure size 1152x360 with 2 Axes>"
      ]
     },
     "metadata": {
      "needs_background": "light"
     },
     "output_type": "display_data"
    }
   ],
   "source": [
    "fig,ax = plt.subplots(1,2,figsize=(16,5))\n",
    "sns.scatterplot(x='SHOE SIZE', y='10th (percentage)', data=df, ax=ax[0])\n",
    "sns.scatterplot(x='SHOE SIZE', y='PUC (percentage)', data=df, ax=ax[1])\n",
    "plt.show()"
   ]
  },
  {
   "cell_type": "code",
   "execution_count": 33,
   "id": "3780fad4",
   "metadata": {
    "scrolled": false
   },
   "outputs": [
    {
     "data": {
      "text/plain": [
       "<AxesSubplot:xlabel='10th (percentage)', ylabel='PUC (percentage)'>"
      ]
     },
     "execution_count": 33,
     "metadata": {},
     "output_type": "execute_result"
    },
    {
     "data": {
      "image/png": "[encoded data removed]",
      "text/plain": [
       "<Figure size 720x504 with 1 Axes>"
      ]
     },
     "metadata": {
      "needs_background": "light"
     },
     "output_type": "display_data"
    }
   ],
   "source": [
    "plt.figure(figsize=(10,7))\n",
    "color_set = [\"red\",\"green\",\"blue\",\"black\",\"#9b59b6\", \"#3498db\",\"orange\"]\n",
    "sns.scatterplot(x='10th (percentage)', y='PUC (percentage)', hue='SHOE SIZE', palette=color_set, data=df)"
   ]
  },
  {
   "cell_type": "code",
   "execution_count": 34,
   "id": "43a68860",
   "metadata": {},
   "outputs": [
    {
     "data": {
      "text/plain": [
       "<AxesSubplot:xlabel='HEIGHT(in cm)', ylabel='10th (percentage)'>"
      ]
     },
     "execution_count": 34,
     "metadata": {},
     "output_type": "execute_result"
    },
    {
     "data": {
      "image/png": "[encoded data removed]",
      "text/plain": [
       "<Figure size 432x288 with 1 Axes>"
      ]
     },
     "metadata": {
      "needs_background": "light"
     },
     "output_type": "display_data"
    }
   ],
   "source": [
    "sns.scatterplot(x='HEIGHT(in cm)', y='10th (percentage)', data=df)"
   ]
  },
  {
   "cell_type": "markdown",
   "id": "41930e71",
   "metadata": {},
   "source": [
    "# Handling Outliers"
   ]
  },
  {
   "cell_type": "code",
   "execution_count": 35,
   "id": "54a88487",
   "metadata": {
    "scrolled": false
   },
   "outputs": [
    {
     "data": {
      "image/png": "[encoded data removed]",
      "text/plain": [
       "<Figure size 1440x504 with 4 Axes>"
      ]
     },
     "metadata": {
      "needs_background": "light"
     },
     "output_type": "display_data"
    }
   ],
   "source": [
    "fig, ax = plt.subplots(1,4,figsize=(20,7))\n",
    "for i in range(4):\n",
    "    sns.boxplot(y=df.columns[i], data=df, ax=ax[i])"
   ]
  },
  {
   "cell_type": "markdown",
   "id": "8a414b82",
   "metadata": {},
   "source": [
    "# Model"
   ]
  },
  {
   "cell_type": "code",
   "execution_count": 36,
   "id": "84c62d85",
   "metadata": {},
   "outputs": [],
   "source": [
    "from scipy import stats\n",
    "\n",
    "slope, intercept, r_value, p_value, std_err = stats.linregress(df['10th (percentage)'], df['PUC (percentage)'])"
   ]
  },
  {
   "cell_type": "code",
   "execution_count": 37,
   "id": "bca7be20",
   "metadata": {},
   "outputs": [
    {
     "data": {
      "text/plain": [
       "0.26224260084575535"
      ]
     },
     "execution_count": 37,
     "metadata": {},
     "output_type": "execute_result"
    }
   ],
   "source": [
    "r_value ** 2  #** represents square, good fit.\n",
    "#Denotes error in data close to 1 is perfect, close to 0 is error.\n",
    "# percent data"
   ]
  },
  {
   "cell_type": "code",
   "execution_count": 38,
   "id": "c7db779f",
   "metadata": {},
   "outputs": [
    {
     "data": {
      "text/plain": [
       "0.45939183311570086"
      ]
     },
     "execution_count": 38,
     "metadata": {},
     "output_type": "execute_result"
    }
   ],
   "source": [
    "slope"
   ]
  },
  {
   "cell_type": "code",
   "execution_count": 39,
   "id": "e772e16c",
   "metadata": {},
   "outputs": [
    {
     "data": {
      "text/plain": [
       "43.76444090334632"
      ]
     },
     "execution_count": 39,
     "metadata": {},
     "output_type": "execute_result"
    }
   ],
   "source": [
    "intercept"
   ]
  },
  {
   "cell_type": "code",
   "execution_count": 40,
   "id": "b7b3905d",
   "metadata": {},
   "outputs": [
    {
     "data": {
      "text/plain": [
       "0.5120962808356992"
      ]
     },
     "execution_count": 40,
     "metadata": {},
     "output_type": "execute_result"
    }
   ],
   "source": [
    "r_value"
   ]
  },
  {
   "cell_type": "code",
   "execution_count": 41,
   "id": "7fb2ed0d",
   "metadata": {},
   "outputs": [
    {
     "data": {
      "text/plain": [
       "2.8804396113669578e-11"
      ]
     },
     "execution_count": 41,
     "metadata": {},
     "output_type": "execute_result"
    }
   ],
   "source": [
    "p_value"
   ]
  },
  {
   "cell_type": "code",
   "execution_count": 42,
   "id": "73d2b65c",
   "metadata": {},
   "outputs": [
    {
     "data": {
      "text/plain": [
       "0.06376935253481043"
      ]
     },
     "execution_count": 42,
     "metadata": {},
     "output_type": "execute_result"
    }
   ],
   "source": [
    "std_err"
   ]
  },
  {
   "cell_type": "code",
   "execution_count": 43,
   "id": "264dda2f",
   "metadata": {},
   "outputs": [
    {
     "data": {
      "image/png": "[encoded data removed]",
      "text/plain": [
       "<Figure size 432x288 with 1 Axes>"
      ]
     },
     "metadata": {
      "needs_background": "light"
     },
     "output_type": "display_data"
    }
   ],
   "source": [
    "def predict(x):\n",
    "    return slope * x + intercept\n",
    "\n",
    "fitLine = predict(df['10th (percentage)'])\n",
    "\n",
    "plt.scatter(df['10th (percentage)'], df['PUC (percentage)'])\n",
    "plt.plot(df['10th (percentage)'], fitLine, c='r')\n",
    "plt.show()\n"
   ]
  },
  {
   "cell_type": "code",
   "execution_count": null,
   "id": "a85167f0",
   "metadata": {},
   "outputs": [],
   "source": []
  },
  {
   "cell_type": "code",
   "execution_count": null,
   "id": "e2b3a00b",
   "metadata": {},
   "outputs": [],
   "source": []
  },
  {
   "cell_type": "markdown",
   "id": "afd07349",
   "metadata": {},
   "source": [
    "# Train Test Split"
   ]
  },
  {
   "cell_type": "code",
   "execution_count": 44,
   "id": "58b000e9",
   "metadata": {},
   "outputs": [],
   "source": [
    "X = df['10th (percentage)'].values.reshape(148,1)\n",
    "Y = df['PUC (percentage)'].values.reshape(148,1)"
   ]
  },
  {
   "cell_type": "code",
   "execution_count": 45,
   "id": "488e767b",
   "metadata": {},
   "outputs": [
    {
     "data": {
      "text/plain": [
       "((118, 1), (30, 1))"
      ]
     },
     "execution_count": 45,
     "metadata": {},
     "output_type": "execute_result"
    }
   ],
   "source": [
    "from sklearn.model_selection import train_test_split\n",
    "\n",
    "X_train, X_test, y_train, y_test = train_test_split(X, Y, test_size=0.2, random_state=0)\n",
    "X_train.shape, X_test.shape"
   ]
  },
  {
   "cell_type": "markdown",
   "id": "545a32b8",
   "metadata": {},
   "source": [
    "# Model"
   ]
  },
  {
   "cell_type": "code",
   "execution_count": 46,
   "id": "a23fb281",
   "metadata": {},
   "outputs": [],
   "source": [
    "from sklearn.linear_model import LinearRegression"
   ]
  },
  {
   "cell_type": "code",
   "execution_count": 47,
   "id": "88061c1d",
   "metadata": {},
   "outputs": [],
   "source": [
    "lr = LinearRegression()"
   ]
  },
  {
   "cell_type": "code",
   "execution_count": 48,
   "id": "d4d8ebb3",
   "metadata": {},
   "outputs": [
    {
     "data": {
      "text/html": [
       "<style>#sk-container-id-1 {color: black;background-color: white;}#sk-container-id-1 pre{padding: 0;}#sk-container-id-1 div.sk-toggleable {background-color: white;}#sk-container-id-1 label.sk-toggleable__label {cursor: pointer;display: block;width: 100%;margin-bottom: 0;padding: 0.3em;box-sizing: border-box;text-align: center;}#sk-container-id-1 label.sk-toggleable__label-arrow:before {content: \"▸\";float: left;margin-right: 0.25em;color: #696969;}#sk-container-id-1 label.sk-toggleable__label-arrow:hover:before {color: black;}#sk-container-id-1 div.sk-estimator:hover label.sk-toggleable__label-arrow:before {color: black;}#sk-container-id-1 div.sk-toggleable__content {max-height: 0;max-width: 0;overflow: hidden;text-align: left;background-color: #f0f8ff;}#sk-container-id-1 div.sk-toggleable__content pre {margin: 0.2em;color: black;border-radius: 0.25em;background-color: #f0f8ff;}#sk-container-id-1 input.sk-toggleable__control:checked~div.sk-toggleable__content {max-height: 200px;max-width: 100%;overflow: auto;}#sk-container-id-1 input.sk-toggleable__control:checked~label.sk-toggleable__label-arrow:before {content: \"▾\";}#sk-container-id-1 div.sk-estimator input.sk-toggleable__control:checked~label.sk-toggleable__label {background-color: #d4ebff;}#sk-container-id-1 div.sk-label input.sk-toggleable__control:checked~label.sk-toggleable__label {background-color: #d4ebff;}#sk-container-id-1 input.sk-hidden--visually {border: 0;clip: rect(1px 1px 1px 1px);clip: rect(1px, 1px, 1px, 1px);height: 1px;margin: -1px;overflow: hidden;padding: 0;position: absolute;width: 1px;}#sk-container-id-1 div.sk-estimator {font-family: monospace;background-color: #f0f8ff;border: 1px dotted black;border-radius: 0.25em;box-sizing: border-box;margin-bottom: 0.5em;}#sk-container-id-1 div.sk-estimator:hover {background-color: #d4ebff;}#sk-container-id-1 div.sk-parallel-item::after {content: \"\";width: 100%;border-bottom: 1px solid gray;flex-grow: 1;}#sk-container-id-1 div.sk-label:hover label.sk-toggleable__label {background-color: #d4ebff;}#sk-container-id-1 div.sk-serial::before {content: \"\";position: absolute;border-left: 1px solid gray;box-sizing: border-box;top: 0;bottom: 0;left: 50%;z-index: 0;}#sk-container-id-1 div.sk-serial {display: flex;flex-direction: column;align-items: center;background-color: white;padding-right: 0.2em;padding-left: 0.2em;position: relative;}#sk-container-id-1 div.sk-item {position: relative;z-index: 1;}#sk-container-id-1 div.sk-parallel {display: flex;align-items: stretch;justify-content: center;background-color: white;position: relative;}#sk-container-id-1 div.sk-item::before, #sk-container-id-1 div.sk-parallel-item::before {content: \"\";position: absolute;border-left: 1px solid gray;box-sizing: border-box;top: 0;bottom: 0;left: 50%;z-index: -1;}#sk-container-id-1 div.sk-parallel-item {display: flex;flex-direction: column;z-index: 1;position: relative;background-color: white;}#sk-container-id-1 div.sk-parallel-item:first-child::after {align-self: flex-end;width: 50%;}#sk-container-id-1 div.sk-parallel-item:last-child::after {align-self: flex-start;width: 50%;}#sk-container-id-1 div.sk-parallel-item:only-child::after {width: 0;}#sk-container-id-1 div.sk-dashed-wrapped {border: 1px dashed gray;margin: 0 0.4em 0.5em 0.4em;box-sizing: border-box;padding-bottom: 0.4em;background-color: white;}#sk-container-id-1 div.sk-label label {font-family: monospace;font-weight: bold;display: inline-block;line-height: 1.2em;}#sk-container-id-1 div.sk-label-container {text-align: center;}#sk-container-id-1 div.sk-container {/* jupyter's `normalize.less` sets `[hidden] { display: none; }` but bootstrap.min.css set `[hidden] { display: none !important; }` so we also need the `!important` here to be able to override the default hidden behavior on the sphinx rendered scikit-learn.org. See: https://github.com/scikit-learn/scikit-learn/issues/21755 */display: inline-block !important;position: relative;}#sk-container-id-1 div.sk-text-repr-fallback {display: none;}</style><div id=\"sk-container-id-1\" class=\"sk-top-container\"><div class=\"sk-text-repr-fallback\"><pre>LinearRegression()</pre><b>In a Jupyter environment, please rerun this cell to show the HTML representation or trust the notebook. <br />On GitHub, the HTML representation is unable to render, please try loading this page with nbviewer.org.</b></div><div class=\"sk-container\" hidden><div class=\"sk-item\"><div class=\"sk-estimator sk-toggleable\"><input class=\"sk-toggleable__control sk-hidden--visually\" id=\"sk-estimator-id-1\" type=\"checkbox\" checked><label for=\"sk-estimator-id-1\" class=\"sk-toggleable__label sk-toggleable__label-arrow\">LinearRegression</label><div class=\"sk-toggleable__content\"><pre>LinearRegression()</pre></div></div></div></div></div>"
      ],
      "text/plain": [
       "LinearRegression()"
      ]
     },
     "execution_count": 48,
     "metadata": {},
     "output_type": "execute_result"
    }
   ],
   "source": [
    "lr.fit(X_train, y_train)"
   ]
  },
  {
   "cell_type": "code",
   "execution_count": 49,
   "id": "003d0182",
   "metadata": {},
   "outputs": [
    {
     "data": {
      "text/plain": [
       "array([[0.44827554]])"
      ]
     },
     "execution_count": 49,
     "metadata": {},
     "output_type": "execute_result"
    }
   ],
   "source": [
    "lr.coef_"
   ]
  },
  {
   "cell_type": "code",
   "execution_count": 50,
   "id": "6542f2b3",
   "metadata": {
    "scrolled": true
   },
   "outputs": [
    {
     "data": {
      "text/plain": [
       "array([44.28716494])"
      ]
     },
     "execution_count": 50,
     "metadata": {},
     "output_type": "execute_result"
    }
   ],
   "source": [
    "lr.intercept_"
   ]
  },
  {
   "cell_type": "markdown",
   "id": "64ef570c",
   "metadata": {},
   "source": [
    "# r2_score"
   ]
  },
  {
   "cell_type": "code",
   "execution_count": 51,
   "id": "d6159b8c",
   "metadata": {},
   "outputs": [],
   "source": [
    "y_pred = lr.predict(X_test)"
   ]
  },
  {
   "cell_type": "code",
   "execution_count": 52,
   "id": "dc91f360",
   "metadata": {},
   "outputs": [
    {
     "data": {
      "text/plain": [
       "0.3226389357414514"
      ]
     },
     "execution_count": 52,
     "metadata": {},
     "output_type": "execute_result"
    }
   ],
   "source": [
    "from sklearn.metrics import r2_score\n",
    "\n",
    "r2_score(y_test, y_pred)"
   ]
  },
  {
   "cell_type": "code",
   "execution_count": 53,
   "id": "fdec5723",
   "metadata": {},
   "outputs": [],
   "source": [
    "y_pred = lr.predict(df['10th (percentage)'].values.reshape(148,1))\n",
    "y_plot = []\n",
    "for i in range(len(y_pred)):\n",
    "    y_plot.append(y_pred[i][0])\n",
    "y_pred = np.array(y_plot)"
   ]
  },
  {
   "cell_type": "code",
   "execution_count": 54,
   "id": "78e9ebda",
   "metadata": {
    "scrolled": false
   },
   "outputs": [
    {
     "data": {
      "text/plain": [
       "<AxesSubplot:xlabel='10th (percentage)', ylabel='PUC (percentage)'>"
      ]
     },
     "execution_count": 54,
     "metadata": {},
     "output_type": "execute_result"
    },
    {
     "data": {
      "image/png": "[encoded data removed]",
      "text/plain": [
       "<Figure size 720x504 with 1 Axes>"
      ]
     },
     "metadata": {
      "needs_background": "light"
     },
     "output_type": "display_data"
    }
   ],
   "source": [
    "plt.figure(figsize=(10,7))\n",
    "sns.scatterplot(x='10th (percentage)', y='PUC (percentage)', data=df)\n",
    "sns.lineplot(x='10th (percentage)', y=y_pred, data=df, color='red')"
   ]
  },
  {
   "cell_type": "code",
   "execution_count": null,
   "id": "b2bee7b9",
   "metadata": {},
   "outputs": [],
   "source": []
  }
 ],
 "metadata": {
  "kernelspec": {
   "display_name": "Python 3 (ipykernel)",
   "language": "python",
   "name": "python3"
  },
  "language_info": {
   "codemirror_mode": {
    "name": "ipython",
    "version": 3
   },
   "file_extension": ".py",
   "mimetype": "text/x-python",
   "name": "python",
   "nbconvert_exporter": "python",
   "pygments_lexer": "ipython3",
   "version": "3.9.5"
  }
 },
 "nbformat": 4,
 "nbformat_minor": 5
}
